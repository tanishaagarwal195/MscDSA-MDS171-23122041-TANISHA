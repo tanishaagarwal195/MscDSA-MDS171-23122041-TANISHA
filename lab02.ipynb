{
 "cells": [
  {
   "cell_type": "code",
   "execution_count": 1,
   "metadata": {},
   "outputs": [],
   "source": [
    "\n",
    "listNames = []\n",
    "def addNames():\n",
    "    name = input(\"Enter the name of the passerby\")\n",
    "    if name==\"q\":\n",
    "        print(listNames)\n",
    "    elif name in listNames:\n",
    "        print(\"The name exists\")\n",
    "    else:\n",
    "        listNames.append(name)\n",
    "    return listNames"
   ]
  },
  {
   "cell_type": "code",
   "execution_count": 7,
   "metadata": {},
   "outputs": [
    {
     "name": "stdout",
     "output_type": "stream",
     "text": [
      "['tanu', 'minu', 'neha', 'piyush']\n"
     ]
    },
    {
     "data": {
      "text/plain": [
       "['tanu', 'minu', 'neha', 'piyush']"
      ]
     },
     "execution_count": 7,
     "metadata": {},
     "output_type": "execute_result"
    }
   ],
   "source": [
    "addNames()"
   ]
  },
  {
   "cell_type": "code",
   "execution_count": null,
   "metadata": {},
   "outputs": [],
   "source": []
  }
 ],
 "metadata": {
  "kernelspec": {
   "display_name": "Python 3",
   "language": "python",
   "name": "python3"
  },
  "language_info": {
   "codemirror_mode": {
    "name": "ipython",
    "version": 3
   },
   "file_extension": ".py",
   "mimetype": "text/x-python",
   "name": "python",
   "nbconvert_exporter": "python",
   "pygments_lexer": "ipython3",
   "version": "3.11.4"
  },
  "orig_nbformat": 4
 },
 "nbformat": 4,
 "nbformat_minor": 2
}
