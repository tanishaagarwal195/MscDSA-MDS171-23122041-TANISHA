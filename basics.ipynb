{
 "cells": [
  {
   "cell_type": "markdown",
   "metadata": {},
   "source": [
    "USE OF IF - ELSE STATEMENTS"
   ]
  },
  {
   "cell_type": "code",
   "execution_count": 8,
   "metadata": {},
   "outputs": [
    {
     "name": "stdout",
     "output_type": "stream",
     "text": [
      "Start of Program\n",
      "The Value is Five\n",
      "This will work irrespective of If or Else\n",
      "Entered number is 8\n",
      "Program End\n"
     ]
    }
   ],
   "source": [
    "print(\"Start of Program\")\n",
    "a = int(input(\"Enter a number\"))\n",
    "if a == 8 :\n",
    "     print(\"The Value is Five\")\n",
    "else:\n",
    "     print(\"This is else part test\")\n",
    "     print(\"This is else part test\")\n",
    "     print(\"This is else part test\")\n",
    "print(\"This will work irrespective of If or Else\")\n",
    "print(\"Entered number is\",a)\n",
    "print(\"Program End\")\n"
   ]
  },
  {
   "cell_type": "markdown",
   "metadata": {},
   "source": []
  },
  {
   "cell_type": "markdown",
   "metadata": {},
   "source": [
    "Write a program to check if the entered number is odd or even."
   ]
  },
  {
   "cell_type": "code",
   "execution_count": 13,
   "metadata": {},
   "outputs": [
    {
     "name": "stdout",
     "output_type": "stream",
     "text": [
      "Start of Program\n",
      "The number is Odd\n",
      "The entered number is 3.4\n",
      "End the Program\n"
     ]
    }
   ],
   "source": [
    "print(\"Start of Program\")\n",
    "a = float (input (\"Enter the number\"))\n",
    "if round(a)%2 == 0:\n",
    "    print(\"The number is Even\")\n",
    "else:\n",
    "    print(\"The number is Odd\")\n",
    "print(\"The entered number is\" ,a)\n",
    "print(\"End the Program\")"
   ]
  },
  {
   "cell_type": "code",
   "execution_count": 18,
   "metadata": {},
   "outputs": [
    {
     "name": "stdout",
     "output_type": "stream",
     "text": [
      "Start of Program\n",
      "FUSS AND BUSS\n",
      "END\n"
     ]
    }
   ],
   "source": [
    "print(\"Start of Program\")\n",
    "a = int (input (\"Enter the number\"))\n",
    "if a%3 == 0 and a%5 == 0:\n",
    "    print(\"FUSS AND BUSS\")\n",
    "elif a%3 == 0:\n",
    "    print(\"FUSS\")\n",
    "elif a%5 == 0:\n",
    "    print(\"BUSS\")\n",
    "else:\n",
    "    print(\"WRONG INPUT\")\n",
    "print(\"END\")\n",
    "\n",
    "\n",
    "\n",
    "    \n"
   ]
  },
  {
   "cell_type": "markdown",
   "metadata": {},
   "source": [
    "Read 3 numbers from user and print the largest among them\n",
    "\n",
    "With the same inputs , try to sort in ascending or descending order based on user choice."
   ]
  },
  {
   "cell_type": "code",
   "execution_count": 5,
   "metadata": {},
   "outputs": [
    {
     "name": "stdout",
     "output_type": "stream",
     "text": [
      "  This is a string  \n",
      " this will give a new line  \n",
      "49\n",
      "45\n"
     ]
    }
   ],
   "source": [
    "msg = \"  This is a string  \\n this will give a new line  \"\n",
    "print(msg)\n",
    "print(len(msg)) # get the number of charachter\n",
    "msg = msg.strip()\n",
    "print(len(msg))"
   ]
  },
  {
   "cell_type": "markdown",
   "metadata": {},
   "source": [
    "LOOPING STATEMENTS (for , while)"
   ]
  },
  {
   "cell_type": "code",
   "execution_count": 1,
   "metadata": {},
   "outputs": [
    {
     "name": "stdout",
     "output_type": "stream",
     "text": [
      "T\n",
      "h\n",
      "i\n",
      "s\n",
      " \n",
      "i\n",
      "s\n",
      " \n",
      "a\n",
      " \n",
      "s\n",
      "t\n",
      "r\n",
      "i\n",
      "n\n",
      "g\n"
     ]
    }
   ],
   "source": [
    "for x in \"This is a string\":\n",
    "    print(x)"
   ]
  },
  {
   "cell_type": "code",
   "execution_count": 25,
   "metadata": {},
   "outputs": [
    {
     "name": "stdout",
     "output_type": "stream",
     "text": [
      "2\n",
      "3\n",
      "4\n",
      "5\n",
      "6\n",
      "7\n",
      "8\n",
      "9\n"
     ]
    }
   ],
   "source": [
    "for i in range(2,10):\n",
    "    print(i)"
   ]
  },
  {
   "cell_type": "markdown",
   "metadata": {},
   "source": [
    "LIST"
   ]
  },
  {
   "cell_type": "code",
   "execution_count": 28,
   "metadata": {},
   "outputs": [
    {
     "name": "stdout",
     "output_type": "stream",
     "text": [
      "['item 1', 'item 2', 10, 22.45]\n",
      "item 1\n",
      "item 2\n",
      "10\n",
      "22.45\n"
     ]
    }
   ],
   "source": [
    "listex = [\"item 1\",\"item 2\",10,22.45]\n",
    "#print(type(listex))\n",
    "print(listex)\n",
    "for i in listex:\n",
    "    print(i)"
   ]
  },
  {
   "cell_type": "markdown",
   "metadata": {},
   "source": [
    "split() and strip()"
   ]
  },
  {
   "cell_type": "code",
   "execution_count": 4,
   "metadata": {},
   "outputs": [
    {
     "name": "stdout",
     "output_type": "stream",
     "text": [
      "hiiiiii\n"
     ]
    }
   ],
   "source": [
    "a = \"\\t   hiiiiii   \\n  \"\n",
    "a=a.strip() #removes extra space\n",
    "print(a)"
   ]
  },
  {
   "cell_type": "code",
   "execution_count": 18,
   "metadata": {},
   "outputs": [
    {
     "name": "stdout",
     "output_type": "stream",
     "text": [
      "['This', 'is', 'a', 'string']\n",
      "['Th', 's ', 's a str', 'ng']\n",
      "THIS IS A STRING\n",
      "this is a string\n",
      "tHIS IS A STRING\n",
      "i\n",
      "This \n",
      "is a \n",
      "is a string\n"
     ]
    }
   ],
   "source": [
    "msg = \"This is a string\"\n",
    "print(msg.split(' '))\n",
    "res=msg.split('i') #split the words in a sentence\n",
    "print(res)\n",
    "print(msg.upper()) #capital letters\n",
    "print(msg.lower()) #small letters\n",
    "print(msg.swapcase()) #it swaps the capital and small letters\n",
    "#slicing\n",
    "print(msg[5]) #5th charachter\n",
    "print(msg[:5]) #till 5th\n",
    "print(msg[5:10]) #from 5th to 10th\n",
    "print(msg[5:]) #from 5th till last"
   ]
  },
  {
   "cell_type": "markdown",
   "metadata": {},
   "source": [
    ".format()"
   ]
  },
  {
   "cell_type": "code",
   "execution_count": 20,
   "metadata": {},
   "outputs": [
    {
     "name": "stdout",
     "output_type": "stream",
     "text": [
      "You are from Kolkata and your name is Tanisha.\n"
     ]
    }
   ],
   "source": [
    "name = input(\"Enter your Name:\")\n",
    "nclass = input(\"Where do you belong to:\")\n",
    "print(\"You are from {} and your name is {}.\".format(nclass,name)) #for putting values while printing"
   ]
  },
  {
   "cell_type": "code",
   "execution_count": 27,
   "metadata": {},
   "outputs": [
    {
     "name": "stdout",
     "output_type": "stream",
     "text": [
      "['one', 'two', 'three', 'four']\n"
     ]
    }
   ],
   "source": [
    "listex = [\"one\",\"two\", \"three\",\"four\"] #creating list\n",
    "print (listex) #printing it"
   ]
  },
  {
   "cell_type": "code",
   "execution_count": 28,
   "metadata": {},
   "outputs": [
    {
     "name": "stdout",
     "output_type": "stream",
     "text": [
      "two is found\n"
     ]
    }
   ],
   "source": [
    "#case sensitive \n",
    "if \"two\" in listex: #searching element\n",
    "    print(\"two is found\")"
   ]
  },
  {
   "cell_type": "code",
   "execution_count": 29,
   "metadata": {},
   "outputs": [
    {
     "name": "stdout",
     "output_type": "stream",
     "text": [
      "['one', 'TWO', 'three', 'four']\n"
     ]
    }
   ],
   "source": [
    "listex[1] = \"TWO\" #changing the element from the list\n",
    "print(listex)"
   ]
  },
  {
   "cell_type": "code",
   "execution_count": 30,
   "metadata": {},
   "outputs": [
    {
     "name": "stdout",
     "output_type": "stream",
     "text": [
      "['one', 'TWO', 'three', 'four', 'five', 'six', 'seven', 'eight']\n"
     ]
    }
   ],
   "source": [
    "newList = [\"five\",\"six\",\"seven\"]\n",
    "listex = listex + newList #concatenation of two strings\n",
    "listex.append(\"eight\")\n",
    "print(listex)\n"
   ]
  },
  {
   "cell_type": "code",
   "execution_count": 32,
   "metadata": {},
   "outputs": [
    {
     "name": "stdout",
     "output_type": "stream",
     "text": [
      "['TWO', 'three', 'four', 'five']\n"
     ]
    }
   ],
   "source": [
    "print(listex[1:5]) #slicing the list"
   ]
  },
  {
   "cell_type": "code",
   "execution_count": 33,
   "metadata": {},
   "outputs": [
    {
     "name": "stdout",
     "output_type": "stream",
     "text": [
      "['one', 'TWO', 'three', 'four', 'five', 'six', 'seven']\n"
     ]
    }
   ],
   "source": [
    "listex.pop()#removes the last item from the list\n",
    "print(listex)"
   ]
  },
  {
   "cell_type": "code",
   "execution_count": 34,
   "metadata": {},
   "outputs": [
    {
     "name": "stdout",
     "output_type": "stream",
     "text": [
      "['TWO', 'three', 'four', 'five', 'six', 'seven']\n"
     ]
    }
   ],
   "source": [
    "listex.pop(0)#removes that particular index that is from strt\n",
    "print(listex)"
   ]
  },
  {
   "cell_type": "markdown",
   "metadata": {},
   "source": [
    "pop removes tht particular index from the list\n",
    "remove - removes tht particular element/value from the list"
   ]
  },
  {
   "cell_type": "code",
   "execution_count": 35,
   "metadata": {},
   "outputs": [
    {
     "name": "stdout",
     "output_type": "stream",
     "text": [
      "['TWO', 'three', 'five', 'six', 'seven']\n"
     ]
    }
   ],
   "source": [
    "listex.remove(\"four\")#removing that element\n",
    "print(listex)"
   ]
  },
  {
   "cell_type": "code",
   "execution_count": 37,
   "metadata": {},
   "outputs": [
    {
     "name": "stdout",
     "output_type": "stream",
     "text": [
      "['TWO', 'five', 'seven', 'six', 'three']\n",
      "['three', 'six', 'seven', 'five', 'TWO']\n"
     ]
    }
   ],
   "source": [
    "listex.sort() #sorting alphabatically\n",
    "print(listex)\n",
    "listex.reverse() #reverse the number of elements\n",
    "print(listex)"
   ]
  },
  {
   "cell_type": "code",
   "execution_count": 41,
   "metadata": {},
   "outputs": [
    {
     "name": "stdout",
     "output_type": "stream",
     "text": [
      "['three', 'six', 'seven', 'five', 'TWO']\n"
     ]
    }
   ],
   "source": [
    "listex.sort(reverse = True)  #descending and in false it will be ascending\n",
    "print(listex)"
   ]
  },
  {
   "cell_type": "markdown",
   "metadata": {},
   "source": [
    "FUNCTIONS"
   ]
  },
  {
   "cell_type": "code",
   "execution_count": 56,
   "metadata": {},
   "outputs": [],
   "source": [
    "def functionName(n):   #defining a function\n",
    "    print(\"Hi I am YOUR FIRST FUNCTION\",n)\n",
    "    print(\"My name is-\",n)\n",
    "    return [\"Sucess\",True]"
   ]
  },
  {
   "cell_type": "code",
   "execution_count": 57,
   "metadata": {},
   "outputs": [
    {
     "name": "stdout",
     "output_type": "stream",
     "text": [
      "Hi I am YOUR FIRST FUNCTION Tanisha\n",
      "My name is- Tanisha\n"
     ]
    },
    {
     "data": {
      "text/plain": [
       "['Sucess', True]"
      ]
     },
     "execution_count": 57,
     "metadata": {},
     "output_type": "execute_result"
    }
   ],
   "source": [
    "name = \"Tanisha\" #defined a variable\n",
    "functionName(name)  #calling a function\n"
   ]
  },
  {
   "cell_type": "code",
   "execution_count": null,
   "metadata": {},
   "outputs": [],
   "source": []
  }
 ],
 "metadata": {
  "kernelspec": {
   "display_name": "Python 3",
   "language": "python",
   "name": "python3"
  },
  "language_info": {
   "codemirror_mode": {
    "name": "ipython",
    "version": 3
   },
   "file_extension": ".py",
   "mimetype": "text/x-python",
   "name": "python",
   "nbconvert_exporter": "python",
   "pygments_lexer": "ipython3",
   "version": "3.11.4"
  },
  "orig_nbformat": 4
 },
 "nbformat": 4,
 "nbformat_minor": 2
}
