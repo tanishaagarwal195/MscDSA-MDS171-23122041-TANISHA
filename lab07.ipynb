{
 "cells": [
  {
   "cell_type": "code",
   "execution_count": 2,
   "metadata": {},
   "outputs": [
    {
     "name": "stdout",
     "output_type": "stream",
     "text": [
      "MENU - THE ENCHANTED FORK!!\n",
      "Fried Rice , 80\n",
      "Schezwan rice , 90\n",
      "Garlic Rice , 95\n",
      "Noodles , 100\n",
      "Manchurian , 110\n",
      "Chicken Gravy , 120\n",
      "Mixed Chow , 140\n",
      "Muffins , 150\n",
      "Ice cream , 200\n",
      "Tea , 30\n"
     ]
    }
   ],
   "source": [
    "print(\"MENU - THE ENCHANTED FORK!!\")\n",
    "my_menu =  {\n",
    "    \"01\":{\n",
    "        \"ITEM\":\"Fried Rice\",\n",
    "        \"PRICE\":\"80\"\n",
    "    },\n",
    "    \"02\":{\n",
    "        \"ITEM\":\"Schezwan rice\",\n",
    "        \"PRICE\":\"90\"\n",
    "    },\n",
    "    \"03\":{\n",
    "        \"ITEM\":\"Garlic Rice\",\n",
    "        \"PRICE\":\"95\"\n",
    "    },\n",
    "    \"04\":{\n",
    "        \"ITEM\":\"Noodles\",\n",
    "        \"PRICE\":\"100\"\n",
    "    },\n",
    "    \"05\":{\n",
    "        \"ITEM\":\"Manchurian\",\n",
    "        \"PRICE\":\"110\"\n",
    "    },\n",
    "    \"06\":{\n",
    "        \"ITEM\":\"Chicken Gravy\",\n",
    "        \"PRICE\":\"120\"\n",
    "    },\n",
    "    \"07\":{\n",
    "        \"ITEM\":\"Mixed Chow\",\n",
    "        \"PRICE\":\"140\"\n",
    "    },\n",
    "    \"08\":{\n",
    "        \"ITEM\":\"Muffins\",\n",
    "        \"PRICE\":\"150\"\n",
    "    },\n",
    "    \"09\":{\n",
    "        \"ITEM\":\"Ice cream\",\n",
    "        \"PRICE\":\"200\"\n",
    "    },\n",
    "    \"10\":{\n",
    "        \"ITEM\":\"Tea\",\n",
    "        \"PRICE\":\"30\"\n",
    "    }\n",
    "}\n",
    "print(my_menu[\"01\"][\"ITEM\"],\",\",my_menu[\"01\"][\"PRICE\"])\n",
    "print(my_menu[\"02\"][\"ITEM\"],\",\",my_menu[\"02\"][\"PRICE\"])\n",
    "print(my_menu[\"03\"][\"ITEM\"],\",\",my_menu[\"03\"][\"PRICE\"])\n",
    "print(my_menu[\"04\"][\"ITEM\"],\",\",my_menu[\"04\"][\"PRICE\"])\n",
    "print(my_menu[\"05\"][\"ITEM\"],\",\",my_menu[\"05\"][\"PRICE\"])\n",
    "print(my_menu[\"06\"][\"ITEM\"],\",\",my_menu[\"06\"][\"PRICE\"])\n",
    "print(my_menu[\"07\"][\"ITEM\"],\",\",my_menu[\"07\"][\"PRICE\"])\n",
    "print(my_menu[\"08\"][\"ITEM\"],\",\",my_menu[\"08\"][\"PRICE\"])\n",
    "print(my_menu[\"09\"][\"ITEM\"],\",\",my_menu[\"09\"][\"PRICE\"])\n",
    "print(my_menu[\"10\"][\"ITEM\"],\",\",my_menu[\"10\"][\"PRICE\"])"
   ]
  },
  {
   "cell_type": "code",
   "execution_count": 19,
   "metadata": {},
   "outputs": [
    {
     "name": "stdout",
     "output_type": "stream",
     "text": [
      "['5', '8', '2', '1', '1']\n"
     ]
    }
   ],
   "source": [
    "import random\n",
    "def orderId():\n",
    "    genOrderid = []\n",
    "    for i in range(5):\n",
    "        genOrderid.append(str(random.randint(1,9)))\n",
    "    print(genOrderid)\n",
    "orderId()\n"
   ]
  },
  {
   "cell_type": "code",
   "execution_count": 20,
   "metadata": {},
   "outputs": [],
   "source": [
    "def createNew():\n",
    "    a = input(\"Enter your order:\")\n",
    "    ran_dic = {}\n",
    "    ran_dic.append=input(a)\n",
    "    \n",
    "    "
   ]
  },
  {
   "cell_type": "code",
   "execution_count": null,
   "metadata": {},
   "outputs": [],
   "source": [
    "print(\"*\"*30)\n",
    "print(\"MANAGMENT APPLICATION\")\n",
    "print(\"*\"*30)\n",
    "while True:\n",
    "    print(\"*\"*30)\n",
    "    print(\"1.Create New Order\")\n",
    "    print(\"2.View Order\")\n",
    "    print(\"3.Exit\")\n",
    "    print(\"*\"*30)\n",
    "\n",
    "    choice = input(\"Enter your choice ?\")\n",
    "    print(\"You have Entered the choice as : \",choice)"
   ]
  },
  {
   "cell_type": "code",
   "execution_count": null,
   "metadata": {},
   "outputs": [],
   "source": []
  }
 ],
 "metadata": {
  "kernelspec": {
   "display_name": "Python 3",
   "language": "python",
   "name": "python3"
  },
  "language_info": {
   "codemirror_mode": {
    "name": "ipython",
    "version": 3
   },
   "file_extension": ".py",
   "mimetype": "text/x-python",
   "name": "python",
   "nbconvert_exporter": "python",
   "pygments_lexer": "ipython3",
   "version": "3.11.4"
  },
  "orig_nbformat": 4
 },
 "nbformat": 4,
 "nbformat_minor": 2
}
