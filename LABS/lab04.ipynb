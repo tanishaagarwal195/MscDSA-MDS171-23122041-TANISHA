{
 "cells": [
  {
   "cell_type": "code",
   "execution_count": 7,
   "metadata": {},
   "outputs": [
    {
     "name": "stdout",
     "output_type": "stream",
     "text": [
      "Thank you for visiting Culinary Delights!!!\n",
      "******************************\n",
      "\n",
      "\n",
      "Dish name\t:\tChai\n",
      "\n",
      "Price of the dish\t:\t15\n",
      "\n",
      "Quantity of the dish\t:\t2\n",
      "\n",
      "Total Amount\t:\t30\n",
      "\n",
      "Name of the customer\t:\tTanisha\n",
      "\n",
      "Phone number\t:\t9123983127\n",
      "\n",
      "Dish name\t:\tDosa\n",
      "\n",
      "Price of the dish\t:\t80\n",
      "\n",
      "Quantity of the dish\t:\t3\n",
      "\n",
      "Total Amount\t:\t240\n",
      "\n",
      "Name of the customer\t:\tParul\n",
      "\n",
      "Phone number\t:\t9467392023\n",
      "\n",
      "Dish name\t:\tUttapam\n",
      "\n",
      "Price of the dish\t:\t100\n",
      "\n",
      "Quantity of the dish\t:\t3\n",
      "\n",
      "Total Amount\t:\t300\n",
      "\n",
      "Name of the customer\t:\tminu\n",
      "\n",
      "Phone number\t:\t97823439040\n",
      "******************************\n"
     ]
    }
   ],
   "source": [
    "def writeadvncRms(dish,price,quantity,total,name,phone): #creating user defined function to store the variables\n",
    "    fileadvncRms = open(\"lab04.txt\",\"a\")  #creating a new file \n",
    "    fileadvncRms.write(\"\\nDish name\\t:\\t\"+dish)  #writing contents in that created file\n",
    "    fileadvncRms.write(\"\\nPrice of the dish\\t:\\t\"+price)\n",
    "    fileadvncRms.write(\"\\nQuantity of the dish\\t:\\t\"+quantity)\n",
    "    fileadvncRms.write(\"\\nTotal Amount\\t:\\t\"+total)\n",
    "    fileadvncRms.write(\"\\nName of the customer\\t:\\t\"+name)\n",
    "    fileadvncRms.write(\"\\nPhone number\\t:\\t\"+phone)\n",
    "    fileadvncRms.close()  #closing the file after we are done writing in it \n",
    "    return True #returning the function\n",
    "\n",
    "dish = input(\"Enter the dish ordered: \")  #taking user input to store in different variables\n",
    "price = input(\"Price of the dish is: \")\n",
    "quantity = input(\"Quantity of that dish ordered: \")\n",
    "total = input(\"The total Amount of the customer: \")\n",
    "name = input(\"Enter the name of the customer: \")\n",
    "phone = input(\"Enter the phone number of the customer: \")\n",
    "rmss =  writeadvncRms(dish,price,quantity,total,name,phone,)   #calling the function\n",
    "\n",
    "if rmss:  #conditional statements\n",
    "    print(\"Thank you for visiting Culinary Delights!!!\")  #printing statements\n",
    "    print(\"*\"*30)\n",
    "    for line in open(\"lab04.txt\",\"r+\").readlines():  #creating tab spaces\n",
    "        print(line)\n",
    "    print(\"*\"*30)\n",
    "else:\n",
    "    print(\"Some error occured\")\n",
    "    "
   ]
  }
 ],
 "metadata": {
  "kernelspec": {
   "display_name": "Python 3",
   "language": "python",
   "name": "python3"
  },
  "language_info": {
   "codemirror_mode": {
    "name": "ipython",
    "version": 3
   },
   "file_extension": ".py",
   "mimetype": "text/x-python",
   "name": "python",
   "nbconvert_exporter": "python",
   "pygments_lexer": "ipython3",
   "version": "3.11.4"
  },
  "orig_nbformat": 4
 },
 "nbformat": 4,
 "nbformat_minor": 2
}
