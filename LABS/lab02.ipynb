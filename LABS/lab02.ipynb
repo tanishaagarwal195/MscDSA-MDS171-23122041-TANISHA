{
 "cells": [
  {
   "cell_type": "code",
   "execution_count": 19,
   "metadata": {},
   "outputs": [],
   "source": [
    "\n",
    "listNames = [] #creating an empty list\n",
    "def addNames(): #defining a function \n",
    "    name = input(\"Enter the name of the passerby\") #taking the information from the user\n",
    "    if name==\"q\": #checking the function quitting statements\n",
    "        print(listNames) #printing list of names\n",
    "    elif name in listNames:  #checking if any name is repeated or not\n",
    "        print(\"The name exists\") #printing the particular msg to the user\n",
    "    else:\n",
    "        listNames.append(name) #creating the list by adding the villagers name\n",
    "        addNames() #calling the function to ask for input in a loop\n",
    "    return listNames #returning the content of the list"
   ]
  },
  {
   "cell_type": "code",
   "execution_count": 20,
   "metadata": {},
   "outputs": [
    {
     "name": "stdout",
     "output_type": "stream",
     "text": [
      "The name exists\n"
     ]
    },
    {
     "data": {
      "text/plain": [
       "['minu', 'neha', 'tanu', 'piyush', 'parul']"
      ]
     },
     "execution_count": 20,
     "metadata": {},
     "output_type": "execute_result"
    }
   ],
   "source": [
    "addNames()"
   ]
  },
  {
   "cell_type": "code",
   "execution_count": null,
   "metadata": {},
   "outputs": [],
   "source": []
  }
 ],
 "metadata": {
  "kernelspec": {
   "display_name": "Python 3",
   "language": "python",
   "name": "python3"
  },
  "language_info": {
   "codemirror_mode": {
    "name": "ipython",
    "version": 3
   },
   "file_extension": ".py",
   "mimetype": "text/x-python",
   "name": "python",
   "nbconvert_exporter": "python",
   "pygments_lexer": "ipython3",
   "version": "3.11.4"
  },
  "orig_nbformat": 4
 },
 "nbformat": 4,
 "nbformat_minor": 2
}
