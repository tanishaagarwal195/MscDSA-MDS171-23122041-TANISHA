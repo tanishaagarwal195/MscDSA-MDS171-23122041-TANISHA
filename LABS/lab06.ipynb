{
 "cells": [
  {
   "cell_type": "markdown",
   "metadata": {},
   "source": [
    "# Lab 06\n",
    "Vowel Counter!\n",
    "\n",
    "Write a program for collecting a string from the user and counting the number of vowels.\n",
    "\n",
    "Print the total count of vowels\n",
    "Print each vowel and its count\n",
    "Calculate the percentage of vowels in the given string\n",
    "Make use of functions and format your output accordingly"
   ]
  },
  {
   "cell_type": "markdown",
   "metadata": {},
   "source": [
    "Vowel Counter:\n",
    "Input String = abstentious"
   ]
  },
  {
   "cell_type": "code",
   "execution_count": 42,
   "metadata": {},
   "outputs": [
    {
     "name": "stdout",
     "output_type": "stream",
     "text": [
      "The Total count of vowels are :  5\n",
      "Total charachters in the string : 11\n",
      "Percentage of vowels in given string is :  45.45454545454545\n",
      "The vowels present are : ['a', 'e', 'i', 'o', 'u']\n",
      "Occurence of 'a' is :  1\n",
      "Occurence of 'e' is :  1\n",
      "Occurence of 'i' is :  1\n",
      "Occurence of 'o' is :  1\n",
      "Occurence of 'u' is :  1\n"
     ]
    }
   ],
   "source": [
    "instr = input (\"Enter the string : \") #Taking user input of string \n",
    "def vowel_counter(instr): #creating user defined function\n",
    "    count = 0 #initialisation of the variable\n",
    "    vow = [\"a\",\"e\",\"i\",\"o\",\"u\",\"A\",\"E\",\"I\",\"O\",\"U\"] #list of items consisting only vowels\n",
    "    alpha=[] #variable list for storing vowels of string\n",
    "    for alphabet in instr:  #loop for counting number of vowels \n",
    "        if alphabet in vow: \n",
    "            count = count+1\n",
    "            alpha.append(alphabet) #adding charachters in list\n",
    "    print(\"The Total count of vowels are : \",count) #printing the total count of vowels\n",
    "    length = len(instr)  #calculating the total number of charachters in the string\n",
    "    print(\"Total charachters in the string :\" , length) #printing the total number of charachters in string\n",
    "    percentage = (count/length)*100 #calculating the percentage of vowels in given string\n",
    "    print (\"Percentage of vowels in given string is : \",percentage) #printing the value of percentage in that string\n",
    "    a,e,io,o,u=0,0,0,0,0  #initialising the value of vowels\n",
    "\n",
    "    for i in alpha: #created for loop to calculate the repition of vowel - a\n",
    "        if i == \"a\" or i == \"A\":\n",
    "            a =a+1\n",
    "    \n",
    "    for i in alpha: #created for loop to calculate the repition of vowel - e\n",
    "        if i == \"e\" or i == \"E\":\n",
    "            e =e+1\n",
    "\n",
    "    for item in alpha: #created for loop to calculate the repition of vowel - i\n",
    "        if item == \"i\" or item == \"I\":\n",
    "            io = io+1        \n",
    "\n",
    "    for i in alpha: #created for loop to calculate the repition of vowel - o\n",
    "        if i == \"o\" or i == \"O\":\n",
    "            o =o+1\n",
    "\n",
    "    for i in alpha: #created for loop to calculate the repition of vowel - u\n",
    "        if i == \"u\" or i == \"U\":\n",
    "            u =u+1\n",
    "\n",
    "    print(\"The vowels present are :\" , alpha)  #printing the vowels\n",
    "    print(\"Occurence of 'a' is : \", a)\n",
    "    print(\"Occurence of 'e' is : \", e)\n",
    "    print(\"Occurence of 'i' is : \", io)\n",
    "    print(\"Occurence of 'o' is : \", o)\n",
    "    print(\"Occurence of 'u' is : \", u)\n",
    "vowel_counter(instr)   #calling the function"
   ]
  }
 ],
 "metadata": {
  "kernelspec": {
   "display_name": "Python 3",
   "language": "python",
   "name": "python3"
  },
  "language_info": {
   "codemirror_mode": {
    "name": "ipython",
    "version": 3
   },
   "file_extension": ".py",
   "mimetype": "text/x-python",
   "name": "python",
   "nbconvert_exporter": "python",
   "pygments_lexer": "ipython3",
   "version": "3.11.4"
  },
  "orig_nbformat": 4
 },
 "nbformat": 4,
 "nbformat_minor": 2
}
