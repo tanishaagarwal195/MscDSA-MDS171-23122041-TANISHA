{
 "cells": [
  {
   "cell_type": "code",
   "execution_count": 6,
   "metadata": {},
   "outputs": [
    {
     "name": "stdout",
     "output_type": "stream",
     "text": [
      "Thank you for visiting Culinary Delights!!!\n",
      "******************************\n",
      "Dish name\t:\tNoodles\n",
      "\n",
      "Price of the dish\t:\t120\n",
      "\n",
      "Quantity of the dish\t:\t2\n",
      "\n",
      "Total Amount\t:\t240\n",
      "\n",
      "Name of the customer\t:\tTanisha\n",
      "\n",
      "Phone number\t:\t9123983127Dish name\t:\tFried rice\n",
      "\n",
      "Price of the dish\t:\t100\n",
      "\n",
      "Quantity of the dish\t:\t3\n",
      "\n",
      "Total Amount\t:\t300\n",
      "\n",
      "Name of the customer\t:\tMinu\n",
      "\n",
      "Phone number\t:\t9830767203Dish name\t:\tDal Rice\n",
      "\n",
      "Price of the dish\t:\t50\n",
      "\n",
      "Quantity of the dish\t:\t4\n",
      "\n",
      "Total Amount\t:\t200\n",
      "\n",
      "Name of the customer\t:\tPiyush\n",
      "\n",
      "Phone number\t:\t7980697993Dish name\t:\tDal RICE\n",
      "\n",
      "Price of the dish\t:\t50\n",
      "\n",
      "Quantity of the dish\t:\t4\n",
      "\n",
      "Total Amount\t:\t200\n",
      "\n",
      "Name of the customer\t:\tpiyush\n",
      "\n",
      "Phone number\t:\t7980373894\n",
      "******************************\n"
     ]
    }
   ],
   "source": [
    "def writeadvncRms(dish,price,quantity,total,name,phone):\n",
    "    fileadvncRms = open(\"lab04.txt\",\"a+\")\n",
    "    fileadvncRms.write(\"Dish name\\t:\\t\"+dish)\n",
    "    fileadvncRms.write(\"\\nPrice of the dish\\t:\\t\"+price)\n",
    "    fileadvncRms.write(\"\\nQuantity of the dish\\t:\\t\"+quantity)\n",
    "    fileadvncRms.write(\"\\nTotal Amount\\t:\\t\"+total)\n",
    "    fileadvncRms.write(\"\\nName of the customer\\t:\\t\"+name)\n",
    "    fileadvncRms.write(\"\\nPhone number\\t:\\t\"+phone)\n",
    "    fileadvncRms.close()\n",
    "    return True\n",
    "\n",
    "dish = input(\"Enter the dish ordered: \")\n",
    "price = input(\"Price of the dish is: \")\n",
    "quantity = input(\"Quantity of that dish ordered: \")\n",
    "total = input(\"Total amount of the customer: \")\n",
    "name = input(\"Enter the name of the customer: \")\n",
    "phone = input(\"Enter the phone number of the customer: \")\n",
    "rmss =  writeadvncRms(dish,price,quantity,total,name,phone,)\n",
    "\n",
    "if rmss:\n",
    "    print(\"Thank you for visiting Culinary Delights!!!\")\n",
    "    print(\"*\"*30)\n",
    "    for line in open(\"lab04.txt\",\"r+\").readlines():\n",
    "        print(line)\n",
    "    print(\"*\"*30)\n",
    "else:\n",
    "    print(\"Some error occured\")\n",
    "    "
   ]
  },
  {
   "cell_type": "code",
   "execution_count": null,
   "metadata": {},
   "outputs": [],
   "source": []
  },
  {
   "cell_type": "code",
   "execution_count": null,
   "metadata": {},
   "outputs": [],
   "source": []
  }
 ],
 "metadata": {
  "kernelspec": {
   "display_name": "Python 3",
   "language": "python",
   "name": "python3"
  },
  "language_info": {
   "codemirror_mode": {
    "name": "ipython",
    "version": 3
   },
   "file_extension": ".py",
   "mimetype": "text/x-python",
   "name": "python",
   "nbconvert_exporter": "python",
   "pygments_lexer": "ipython3",
   "version": "3.11.4"
  },
  "orig_nbformat": 4
 },
 "nbformat": 4,
 "nbformat_minor": 2
}
