{
 "cells": [
  {
   "cell_type": "markdown",
   "metadata": {},
   "source": [
    "ARITHMETICA VALUES:-"
   ]
  },
  {
   "cell_type": "markdown",
   "metadata": {},
   "source": [
    "MEAN:"
   ]
  },
  {
   "cell_type": "code",
   "execution_count": 65,
   "metadata": {},
   "outputs": [
    {
     "data": {
      "text/plain": [
       "542.94"
      ]
     },
     "execution_count": 65,
     "metadata": {},
     "output_type": "execute_result"
    }
   ],
   "source": [
    "listex = [761, 123, 585, 275, 194, 840, 999, 622, 763, 40, 825, 687, 402, 338, 611, 987, 739, 95, 819, 568, 320, 126, 688, 948, 514, 223, 751, 379, 857, 767, 492, 162, 437, 934, 430, 343, 725, 511, 580, 678, 708, 823, 346, 179, 786, 663, 195, 890, 267, 502, 214, 300, 786, 961, 235, 559, 992, 919, 948, 318, 57, 787, 653, 317, 305, 172, 966, 182, 970, 17, 89, 624, 629, 595, 485, 752, 984, 978, 460, 124, 321, 256, 614, 852, 811, 561, 127, 207, 406, 615, 888, 391, 691, 470, 911, 401, 137, 600, 478, 682] #list of number\n",
    "def valueArithmetica(numbers): #user-defined funtion to find the mean of the numbers\n",
    "    sum=0 #initialisation of sum\n",
    "    count=0 #initialisation of the count\n",
    "    for item in numbers:\n",
    "        sum=sum+item\n",
    "        count=count+1\n",
    "        total=sum/count #calculation of mean\n",
    "    return total\n",
    "valueArithmetica(listex) #calling the function"
   ]
  },
  {
   "cell_type": "markdown",
   "metadata": {},
   "source": [
    "MAXIMUM NUMBER:"
   ]
  },
  {
   "cell_type": "code",
   "execution_count": 66,
   "metadata": {},
   "outputs": [
    {
     "name": "stdout",
     "output_type": "stream",
     "text": [
      "The maximum number is: 999\n"
     ]
    }
   ],
   "source": [
    "def minMax(numbers): #user-defined function to find the maximum number in the list\n",
    "    \n",
    "    max = numbers[0]\n",
    "    for a in numbers:\n",
    "        if(a>max): #conditional statement \n",
    "         max=a #assigning the values\n",
    "    print(\"The maximum number is:\",max)\n",
    "    return max #returning the value to use it globally\n",
    "max=minMax(listex)\n"
   ]
  },
  {
   "cell_type": "markdown",
   "metadata": {},
   "source": [
    "MINIMUM NUMBER:"
   ]
  },
  {
   "cell_type": "code",
   "execution_count": 67,
   "metadata": {},
   "outputs": [
    {
     "name": "stdout",
     "output_type": "stream",
     "text": [
      "The minimum number is: 17\n"
     ]
    }
   ],
   "source": [
    "def maxMin(numbers): #user-defined function to find the minimum number in the list\n",
    "    \n",
    "    min = numbers[0]\n",
    "    for b in numbers:\n",
    "        if(min>b):  #conditional statement \n",
    "         min=b      #assigning the values\n",
    "    print(\"The minimum number is:\",min)\n",
    "    return min\n",
    "min = maxMin(listex)"
   ]
  },
  {
   "cell_type": "markdown",
   "metadata": {},
   "source": [
    "RANGE:"
   ]
  },
  {
   "cell_type": "code",
   "execution_count": 68,
   "metadata": {},
   "outputs": [
    {
     "name": "stdout",
     "output_type": "stream",
     "text": [
      "The Range is- 982\n"
     ]
    }
   ],
   "source": [
    "def valRange(max,min): #user-defined function to find the range\n",
    "    rang=max-min #formula to find the range\n",
    "    print(\"The Range is-\",rang)\n",
    "valRange(max,min)"
   ]
  }
 ],
 "metadata": {
  "language_info": {
   "name": "python"
  },
  "orig_nbformat": 4
 },
 "nbformat": 4,
 "nbformat_minor": 2
}
