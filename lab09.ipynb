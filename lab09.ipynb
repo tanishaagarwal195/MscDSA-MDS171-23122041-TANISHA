{
 "cells": [
  {
   "cell_type": "markdown",
   "metadata": {},
   "source": [
    "Lab 09\n",
    "<!-- # TASK Lab 09\n",
    "# Using the expenseTracker Class continue with the task:\n",
    "# CREATE A CSV FIle for Expense/Income\n",
    "# load the CSV File and populate the dictionary of the expenseTracker class\n",
    "# find the total expense and income\n",
    "\n",
    "# Additional Task\n",
    "# Using the concept of menu driven programming,\n",
    "# Show the menu options to add new transaction [expense/income]\n",
    "# export the updated dictionary to the file -->"
   ]
  },
  {
   "cell_type": "code",
   "execution_count": null,
   "metadata": {},
   "outputs": [],
   "source": []
  }
 ],
 "metadata": {
  "language_info": {
   "name": "python"
  },
  "orig_nbformat": 4
 },
 "nbformat": 4,
 "nbformat_minor": 2
}
